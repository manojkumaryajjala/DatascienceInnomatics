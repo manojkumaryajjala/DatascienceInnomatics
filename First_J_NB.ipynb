{
 "cells": [
  {
   "cell_type": "code",
   "execution_count": 1,
   "id": "d0faffcb",
   "metadata": {},
   "outputs": [
    {
     "name": "stdout",
     "output_type": "stream",
     "text": [
      "Hello World\n"
     ]
    }
   ],
   "source": [
    "print (\"Hello World\")"
   ]
  },
  {
   "cell_type": "markdown",
   "id": "602616dd",
   "metadata": {},
   "source": [
    "# heading \n"
   ]
  },
  {
   "cell_type": "markdown",
   "id": "3dad4de6",
   "metadata": {},
   "source": [
    "#  Hello World\n",
    "----------\n",
    "*Hello World*\n",
    "\n",
    "----------\n",
    "hello world\n"
   ]
  },
  {
   "cell_type": "markdown",
   "id": "ea2f5d7f",
   "metadata": {},
   "source": [
    "*Master*"
   ]
  },
  {
   "cell_type": "markdown",
   "id": "f3719e7b",
   "metadata": {},
   "source": [
    "**Mater**"
   ]
  },
  {
   "cell_type": "markdown",
   "id": "19597998",
   "metadata": {},
   "source": [
    "[google](www.google.com)"
   ]
  },
  {
   "cell_type": "markdown",
   "id": "84e9c579",
   "metadata": {},
   "source": [
    "# create a variable and storing string integer and print float number"
   ]
  },
  {
   "cell_type": "code",
   "execution_count": 4,
   "id": "0805ee9c",
   "metadata": {},
   "outputs": [
    {
     "name": "stdout",
     "output_type": "stream",
     "text": [
      "5.0\n"
     ]
    }
   ],
   "source": [
    "Var1=5\n",
    "print(float(Var1))"
   ]
  },
  {
   "cell_type": "code",
   "execution_count": 5,
   "id": "ce943c76",
   "metadata": {},
   "outputs": [],
   "source": [
    "integer= 6\n",
    "flt= 5.8\n",
    "string = \"Hello World\""
   ]
  },
  {
   "cell_type": "code",
   "execution_count": 6,
   "id": "d1dedc0e",
   "metadata": {},
   "outputs": [
    {
     "name": "stdout",
     "output_type": "stream",
     "text": [
      "<class 'int'>\n",
      "<class 'float'>\n",
      "<class 'str'>\n"
     ]
    }
   ],
   "source": [
    "print(type(integer))\n",
    "print(type(flt))\n",
    "print(type(string))"
   ]
  },
  {
   "cell_type": "code",
   "execution_count": 7,
   "id": "07af9062",
   "metadata": {},
   "outputs": [
    {
     "name": "stdout",
     "output_type": "stream",
     "text": [
      "Enter your age: 25\n"
     ]
    }
   ],
   "source": [
    "age1=input('Enter your age: ')"
   ]
  },
  {
   "cell_type": "code",
   "execution_count": 8,
   "id": "08f0d6bc",
   "metadata": {},
   "outputs": [
    {
     "name": "stdout",
     "output_type": "stream",
     "text": [
      "25\n"
     ]
    }
   ],
   "source": [
    "print(age1)"
   ]
  },
  {
   "cell_type": "code",
   "execution_count": 16,
   "id": "f514c448",
   "metadata": {},
   "outputs": [
    {
     "name": "stdout",
     "output_type": "stream",
     "text": [
      "Age of the customer is 25 years\n"
     ]
    }
   ],
   "source": [
    "print ('Age of the customer is', age1,'years')"
   ]
  },
  {
   "cell_type": "code",
   "execution_count": 10,
   "id": "24fb0c6c",
   "metadata": {},
   "outputs": [
    {
     "data": {
      "text/plain": [
       "str"
      ]
     },
     "execution_count": 10,
     "metadata": {},
     "output_type": "execute_result"
    }
   ],
   "source": [
    "type(age1)\n"
   ]
  },
  {
   "cell_type": "code",
   "execution_count": 13,
   "id": "81caa63f",
   "metadata": {},
   "outputs": [
    {
     "data": {
      "text/plain": [
       "str"
      ]
     },
     "execution_count": 13,
     "metadata": {},
     "output_type": "execute_result"
    }
   ],
   "source": [
    "# type casting\n",
    "age1_type_casted= str(age1)\n",
    "type(age1_type_casted)"
   ]
  },
  {
   "cell_type": "code",
   "execution_count": 14,
   "id": "a43dbb32",
   "metadata": {},
   "outputs": [
    {
     "data": {
      "text/plain": [
       "int"
      ]
     },
     "execution_count": 14,
     "metadata": {},
     "output_type": "execute_result"
    }
   ],
   "source": [
    "age1_type_casted= int(age1)\n",
    "type(age1_type_casted)"
   ]
  },
  {
   "cell_type": "code",
   "execution_count": 18,
   "id": "65320d3d",
   "metadata": {},
   "outputs": [
    {
     "name": "stdout",
     "output_type": "stream",
     "text": [
      "7.0\n"
     ]
    }
   ],
   "source": [
    "age1_type_casted= float(7)\n",
    "type(age1_type_casted)\n",
    "print (age1_type_casted)"
   ]
  },
  {
   "cell_type": "code",
   "execution_count": 19,
   "id": "15d537fd",
   "metadata": {},
   "outputs": [],
   "source": [
    "a= 10"
   ]
  },
  {
   "cell_type": "code",
   "execution_count": 20,
   "id": "1be6ed55",
   "metadata": {},
   "outputs": [
    {
     "name": "stdout",
     "output_type": "stream",
     "text": [
      "The value of a is 10\n"
     ]
    }
   ],
   "source": [
    "print(f\"The value of a is {a}\")  # Prints the value of a"
   ]
  },
  {
   "cell_type": "code",
   "execution_count": 21,
   "id": "5c66d519",
   "metadata": {},
   "outputs": [
    {
     "name": "stdout",
     "output_type": "stream",
     "text": [
      "The value of a is 10\n"
     ]
    }
   ],
   "source": [
    "print(\"The value of a is\", a)"
   ]
  },
  {
   "cell_type": "code",
   "execution_count": 22,
   "id": "1bf5520f",
   "metadata": {},
   "outputs": [],
   "source": [
    "# single line comment"
   ]
  },
  {
   "cell_type": "code",
   "execution_count": 23,
   "id": "03995ea2",
   "metadata": {},
   "outputs": [
    {
     "data": {
      "text/plain": [
       "' Mutliple line comments\\nadds to the line '"
      ]
     },
     "execution_count": 23,
     "metadata": {},
     "output_type": "execute_result"
    }
   ],
   "source": [
    "\"\"\" Mutliple line comments\n",
    "adds to the line \"\"\""
   ]
  },
  {
   "cell_type": "code",
   "execution_count": 25,
   "id": "569d3a2d",
   "metadata": {},
   "outputs": [],
   "source": [
    "# Print all keywords in Python"
   ]
  },
  {
   "cell_type": "code",
   "execution_count": 24,
   "id": "25e21fe3",
   "metadata": {},
   "outputs": [
    {
     "name": "stdout",
     "output_type": "stream",
     "text": [
      "['False', 'None', 'True', '__peg_parser__', 'and', 'as', 'assert', 'async', 'await', 'break', 'class', 'continue', 'def', 'del', 'elif', 'else', 'except', 'finally', 'for', 'from', 'global', 'if', 'import', 'in', 'is', 'lambda', 'nonlocal', 'not', 'or', 'pass', 'raise', 'return', 'try', 'while', 'with', 'yield']\n"
     ]
    }
   ],
   "source": [
    "import keyword\n",
    "print (keyword.kwlist)"
   ]
  },
  {
   "cell_type": "code",
   "execution_count": 26,
   "id": "569deac5",
   "metadata": {},
   "outputs": [
    {
     "name": "stdout",
     "output_type": "stream",
     "text": [
      "<class 'int'>\n",
      "<class 'float'>\n",
      "23.45\n",
      "<class 'bool'>\n",
      "True\n"
     ]
    }
   ],
   "source": [
    "a= 10\n",
    "print(type(a))\n",
    "\n",
    "a= 23.45\n",
    "print(type(a))\n",
    "\n",
    "print (a)\n",
    "\n",
    "a= True\n",
    "print(type(a))\n",
    "\n",
    "print (a)"
   ]
  },
  {
   "cell_type": "code",
   "execution_count": 28,
   "id": "9d5c7012",
   "metadata": {},
   "outputs": [
    {
     "name": "stdout",
     "output_type": "stream",
     "text": [
      "1 2 3\n"
     ]
    }
   ],
   "source": [
    "# Multiple assignment\n",
    "  \n",
    "a,b,c =1,2,3\n",
    "print(a,b,c)"
   ]
  },
  {
   "cell_type": "code",
   "execution_count": 29,
   "id": "fddecaec",
   "metadata": {},
   "outputs": [
    {
     "name": "stdout",
     "output_type": "stream",
     "text": [
      "5 10\n"
     ]
    }
   ],
   "source": [
    "# Swap two numbers\n",
    "\n",
    "a=10\n",
    "b=5\n",
    "\n",
    "temp = a\n",
    "a=b\n",
    "b=temp\n",
    "print (a,b)"
   ]
  },
  {
   "cell_type": "code",
   "execution_count": 31,
   "id": "afb4c0f5",
   "metadata": {},
   "outputs": [
    {
     "name": "stdout",
     "output_type": "stream",
     "text": [
      "Enter the value of b: 4\n",
      "Enter the value of c:8\n",
      "8 4\n"
     ]
    }
   ],
   "source": [
    "# Swap 4 and 8\n",
    "b=input(\"Enter the value of b:\")\n",
    "c=input(\"Enter the value of c:\")\n",
    "\n",
    "temp=b\n",
    "b=c\n",
    "c=temp\n",
    "print(b,c)"
   ]
  },
  {
   "cell_type": "code",
   "execution_count": 33,
   "id": "097ea2d3",
   "metadata": {},
   "outputs": [
    {
     "name": "stdout",
     "output_type": "stream",
     "text": [
      "a +b = 19\n",
      "a-b= 9\n",
      "a*b= 70\n",
      "a%b= 4\n",
      "a/b= 2.8\n",
      "a//b= 2\n",
      "a**b= 537824\n"
     ]
    }
   ],
   "source": [
    "a=14\n",
    "b=5\n",
    "\n",
    "print ('a +b =',a+b)\n",
    "\n",
    "print ('a-b=',a-b)\n",
    "\n",
    "print ('a*b=',a *b)\n",
    "\n",
    "print ('a%b=',a%b)\n",
    "\n",
    "print ('a/b=', a/b)\n",
    "\n",
    "print ('a//b=', a//b)\n",
    "\n",
    "print ('a**b=', a**b)"
   ]
  },
  {
   "cell_type": "code",
   "execution_count": 2,
   "id": "299158d6",
   "metadata": {},
   "outputs": [
    {
     "name": "stdout",
     "output_type": "stream",
     "text": [
      "x and y is False\n",
      "x or y is True\n",
      "not x is False\n"
     ]
    }
   ],
   "source": [
    "# logical operators\n",
    "x = True\n",
    "y = False\n",
    "print ('x and y is', x and y)\n",
    "print ('x or y is', x or y)\n",
    "print ('not x is', not x)"
   ]
  },
  {
   "cell_type": "code",
   "execution_count": 4,
   "id": "c68dd9b1",
   "metadata": {},
   "outputs": [
    {
     "data": {
      "text/plain": [
       "('0b10', '0b111')"
      ]
     },
     "execution_count": 4,
     "metadata": {},
     "output_type": "execute_result"
    }
   ],
   "source": [
    "# Binary\n",
    "bin(2),bin(7)"
   ]
  },
  {
   "cell_type": "code",
   "execution_count": 3,
   "id": "913b4e0f",
   "metadata": {},
   "outputs": [
    {
     "name": "stdout",
     "output_type": "stream",
     "text": [
      "x & y = 2\n",
      "x | y = 7\n",
      "x ^ y = 5\n",
      "~x=  -3\n",
      "x>>2= 0\n",
      "x<<2= 8\n"
     ]
    }
   ],
   "source": [
    "# Bitwise operators\n",
    "\n",
    "x =2\n",
    "y=7\n",
    "print('x & y =', x&y)\n",
    "print('x | y =', x|y)\n",
    "print('x ^ y =', x^y)\n",
    "print('~x= ', ~x)\n",
    "print('x>>2=', x>>2)\n",
    "print('x<<2=', x<<2)"
   ]
  },
  {
   "cell_type": "code",
   "execution_count": 11,
   "id": "af85939c",
   "metadata": {},
   "outputs": [
    {
     "name": "stdout",
     "output_type": "stream",
     "text": [
      "Present\n"
     ]
    }
   ],
   "source": [
    "# checking operator\n",
    "x=5\n",
    "y=10\n",
    "l=[1,2,3,5,10]\n",
    "if x and y in l:\n",
    "  print (\"Present\")"
   ]
  },
  {
   "cell_type": "code",
   "execution_count": 15,
   "id": "c26812e9",
   "metadata": {},
   "outputs": [
    {
     "name": "stdout",
     "output_type": "stream",
     "text": [
      "True\n",
      "True\n",
      "False\n"
     ]
    }
   ],
   "source": [
    "x1=5\n",
    "y1=5\n",
    "x2=\"Hello\"\n",
    "y2=\"Hello\"\n",
    "x3= [1,2,3]\n",
    "y3 = [1,2,3]\n",
    "print (x1 is y1)\n",
    "print (x2 is y2)\n",
    "print (x3 is y3)"
   ]
  },
  {
   "cell_type": "code",
   "execution_count": 16,
   "id": "bfdd6faa",
   "metadata": {},
   "outputs": [
    {
     "name": "stdout",
     "output_type": "stream",
     "text": [
      "True\n",
      "True\n",
      "True\n",
      "False\n"
     ]
    }
   ],
   "source": [
    "# Membership Operators\n",
    "x= \"Hello World\"\n",
    "y={1:'a',2:'b'}\n",
    "print ('H' in x)\n",
    "print (\"hello\" not in x)\n",
    "print(1 in y)\n",
    "print('a' in y)"
   ]
  },
  {
   "cell_type": "code",
   "execution_count": null,
   "id": "60cc505e",
   "metadata": {},
   "outputs": [],
   "source": []
  }
 ],
 "metadata": {
  "kernelspec": {
   "display_name": "Python 3 (ipykernel)",
   "language": "python",
   "name": "python3"
  },
  "language_info": {
   "codemirror_mode": {
    "name": "ipython",
    "version": 3
   },
   "file_extension": ".py",
   "mimetype": "text/x-python",
   "name": "python",
   "nbconvert_exporter": "python",
   "pygments_lexer": "ipython3",
   "version": "3.9.12"
  }
 },
 "nbformat": 4,
 "nbformat_minor": 5
}
